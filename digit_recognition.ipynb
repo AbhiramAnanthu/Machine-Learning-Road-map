{
  "nbformat": 4,
  "nbformat_minor": 0,
  "metadata": {
    "colab": {
      "provenance": [],
      "authorship_tag": "ABX9TyMUmaxEg7OsXxN0h6aBkWS2",
      "include_colab_link": true
    },
    "kernelspec": {
      "name": "python3",
      "display_name": "Python 3"
    },
    "language_info": {
      "name": "python"
    }
  },
  "cells": [
    {
      "cell_type": "markdown",
      "metadata": {
        "id": "view-in-github",
        "colab_type": "text"
      },
      "source": [
        "<a href=\"https://colab.research.google.com/github/AbhiramAnanthu/Machine-Learning-Road-map/blob/main/digit_recognition.ipynb\" target=\"_parent\"><img src=\"https://colab.research.google.com/assets/colab-badge.svg\" alt=\"Open In Colab\"/></a>"
      ]
    },
    {
      "cell_type": "code",
      "execution_count": 1,
      "metadata": {
        "id": "aNJ-tmRTHerf"
      },
      "outputs": [],
      "source": [
        "import numpy as np\n",
        "import pandas as pd\n",
        "import tensorflow as tf"
      ]
    },
    {
      "cell_type": "code",
      "source": [
        "mnist  = tf.keras.datasets.mnist\n",
        "(train_images,train_labels),(test_images,test_labes) = mnist.load_data()\n",
        "train_images, test_images = train_images/255.0, test_images/255.0\n",
        "train_images = train_images.reshape(train_images.shape[0],-1)\n",
        "test_images  = test_images.reshape(test_images.shape[0],-1)"
      ],
      "metadata": {
        "colab": {
          "base_uri": "https://localhost:8080/"
        },
        "id": "rpqOha09IgYI",
        "outputId": "c7e066de-6f7b-4709-f2ef-78e4c27c42cd"
      },
      "execution_count": 2,
      "outputs": [
        {
          "output_type": "stream",
          "name": "stdout",
          "text": [
            "Downloading data from https://storage.googleapis.com/tensorflow/tf-keras-datasets/mnist.npz\n",
            "\u001b[1m11490434/11490434\u001b[0m \u001b[32m━━━━━━━━━━━━━━━━━━━━\u001b[0m\u001b[37m\u001b[0m \u001b[1m0s\u001b[0m 0us/step\n"
          ]
        }
      ]
    },
    {
      "cell_type": "code",
      "source": [
        "input_size = 784\n",
        "hidden_size = 128\n",
        "output_size = 10\n",
        "learning_rate = 0.01\n",
        "\n",
        "W1 = np.random.randn(input_size,hidden_size) *0.01\n",
        "b1 = np.zeros((1,hidden_size))\n",
        "W2 = np.random.randn(hidden_size,output_size) *0.01\n",
        "b2 = np.zeros((1,output_size))"
      ],
      "metadata": {
        "id": "S1cL1_1_Jia3"
      },
      "execution_count": 3,
      "outputs": []
    },
    {
      "cell_type": "code",
      "source": [
        "def relu(Z):\n",
        "  return np.maximum(0,Z)\n",
        "\n",
        "def relu_derivative(Z):\n",
        "  return Z>0\n",
        "\n",
        "def softmax(Z):\n",
        "  expZ = np.exp(Z-np.max(Z))\n",
        "  return expZ/np.sum(expZ,axis=1,keepdims=True)\n"
      ],
      "metadata": {
        "id": "XuftrLsOJ0xx"
      },
      "execution_count": 4,
      "outputs": []
    },
    {
      "cell_type": "code",
      "source": [
        "def forward_propogation(X,W1,b1,W2,b2):\n",
        "  Z1 = np.dot(X,W1) + b1\n",
        "  A1 = relu(Z1)\n",
        "  Z2 = np.dot(A1,W2) + b2\n",
        "  A2 = softmax(Z2)\n",
        "\n",
        "  return Z1,A1,Z1,A2\n",
        "\n",
        "def compute_lose(Y,A2):\n",
        "  m = Y.shape[0]\n",
        "  log_likelihood = -np.log(A2[range(m),Y])\n",
        "  loss = np.sum(log_likelihood)/m\n",
        "  return loss\n",
        "\n",
        "def back_propogation(X,Y,Z1,A1,Z2,A2,W1,W2):\n",
        "  m = X.shape[0]\n",
        "  dZ2 = A2\n",
        "  dZ2[range(m), Y] -= 1\n",
        "  dZ2 /= m\n",
        "  dW2 = np.dot(A1.T, dZ2)\n",
        "  db2 = np.sum(dZ2, axis=0, keepdims=True)\n",
        "  dA1 = np.dot(dZ2, W2.T)\n",
        "  dZ1 = dA1 * relu_derivative(Z1)\n",
        "  dW1 = np.dot(X.T, dZ1)\n",
        "  db1 = np.sum(dZ1, axis=0, keepdims=True)\n",
        "  return dW1, db1, dW2,db2"
      ],
      "metadata": {
        "id": "KblyzpdPKKLq"
      },
      "execution_count": 9,
      "outputs": []
    },
    {
      "cell_type": "code",
      "source": [
        "def update_parameters(W1, b1, W2, b2, dW1, db1, dW2, db2, learning_rate):\n",
        "    W1 -= learning_rate * dW1\n",
        "    b1 -= learning_rate * db1\n",
        "    W2 -= learning_rate * dW2\n",
        "    b2 -= learning_rate * db2\n",
        "    return W1, b1, W2, b2\n"
      ],
      "metadata": {
        "id": "5MOgjwyqLKoI"
      },
      "execution_count": 6,
      "outputs": []
    },
    {
      "cell_type": "code",
      "source": [
        "num_epochs = 1000\n",
        "for epoch in range(num_epochs):\n",
        "    Z1, A1, Z2, A2 = forward_propogation(train_images, W1, b1, W2, b2)\n",
        "    loss = compute_lose(train_labels, A2)\n",
        "    dW1, db1, dW2, db2 = back_propogation(train_images, train_labels, Z1, A1, Z2, A2, W1, W2)\n",
        "    W1, b1, W2, b2 = update_parameters(W1, b1, W2, b2, dW1, db1, dW2, db2, learning_rate)\n",
        "\n",
        "    if epoch % 100 == 0:\n",
        "        print(f'Epoch {epoch}: Loss = {loss}')\n"
      ],
      "metadata": {
        "colab": {
          "base_uri": "https://localhost:8080/"
        },
        "id": "fwkJnAUELL8n",
        "outputId": "24986a86-07a8-4280-fcf5-794355779989"
      },
      "execution_count": 10,
      "outputs": [
        {
          "output_type": "stream",
          "name": "stdout",
          "text": [
            "Epoch 0: Loss = 2.3021625506031356\n",
            "Epoch 100: Loss = 2.2902450889412687\n",
            "Epoch 200: Loss = 2.267021394463486\n",
            "Epoch 300: Loss = 2.217107701484511\n",
            "Epoch 400: Loss = 2.1181726457419536\n",
            "Epoch 500: Loss = 1.9510809685897397\n",
            "Epoch 600: Loss = 1.7187014865274841\n",
            "Epoch 700: Loss = 1.4655248268205376\n",
            "Epoch 800: Loss = 1.2428270458911068\n",
            "Epoch 900: Loss = 1.0683961648979188\n"
          ]
        }
      ]
    },
    {
      "cell_type": "code",
      "source": [],
      "metadata": {
        "id": "7FJIm2VSSEkw"
      },
      "execution_count": null,
      "outputs": []
    },
    {
      "cell_type": "markdown",
      "source": [],
      "metadata": {
        "id": "mayO7XMbSXUL"
      }
    },
    {
      "cell_type": "code",
      "source": [
        "_, _, _, A2_test = forward_propogation(train_images, W1, b1, W2, b2)\n",
        "predictions = np.argmax(A2_test, axis=1)\n",
        "accuracy = np.mean(predictions == train_labels)\n",
        "print(f'Test accuracy: {accuracy}')\n"
      ],
      "metadata": {
        "colab": {
          "base_uri": "https://localhost:8080/"
        },
        "id": "FnNnTQzdLOB-",
        "outputId": "19f0f18c-a8e5-4f83-89ab-7f45bf902fa5"
      },
      "execution_count": 12,
      "outputs": [
        {
          "output_type": "stream",
          "name": "stdout",
          "text": [
            "Test accuracy: 0.78915\n"
          ]
        }
      ]
    }
  ]
}